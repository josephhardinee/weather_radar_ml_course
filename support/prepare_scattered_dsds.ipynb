{
 "cells": [
  {
   "cell_type": "code",
   "execution_count": 8,
   "metadata": {},
   "outputs": [],
   "source": [
    "%matplotlib inline\n",
    "import pydsd as pyd\n",
    "import pytmatrix as pyt\n",
    "from netCDF4 import Dataset\n",
    "import numpy as np\n",
    "import matplotlib.pyplot as plt"
   ]
  },
  {
   "cell_type": "markdown",
   "metadata": {},
   "source": [
    "This notebook does some of the data generation that we will use in the short course. \n",
    "\n",
    "# Disdrometer Scattering\n",
    "First we will take some randomly generated DSDs, then do some scattering to give us a trainable radar dataset. "
   ]
  },
  {
   "cell_type": "code",
   "execution_count": 2,
   "metadata": {},
   "outputs": [],
   "source": [
    "from pytmatrix.tmatrix import Scatterer\n",
    "from pytmatrix.psd import PSDIntegrator, GammaPSD\n",
    "from pytmatrix import orientation, radar, tmatrix_aux, refractive\n",
    "from pydsd import DSR"
   ]
  },
  {
   "cell_type": "code",
   "execution_count": 36,
   "metadata": {},
   "outputs": [],
   "source": [
    "class DSDProcessor(object):\n",
    "    def calcParameters(self, D0, Nw, mu):\n",
    "        self.moments = {}\n",
    "        self.scatterer.psd = GammaPSD(D0=D0, Nw=10 ** (Nw), mu=mu)\n",
    "        self.scatterer.set_geometry(tmatrix_aux.geom_horiz_back)\n",
    "        self.moments[\"Zh\"] = 10 * np.log10(radar.refl(self.scatterer))\n",
    "        self.moments[\"Zdr\"] = 10 * np.log10(radar.Zdr(self.scatterer))\n",
    "        self.moments[\"delta_hv\"] = radar.delta_hv(self.scatterer)\n",
    "        self.moments[\"ldr_h\"] = radar.ldr(self.scatterer)\n",
    "        self.moments[\"ldr_v\"] = radar.ldr(self.scatterer, h_pol=False)\n",
    "\n",
    "        self.scatterer.set_geometry(tmatrix_aux.geom_horiz_forw)\n",
    "        self.moments[\"Kdp\"] = radar.Kdp(self.scatterer)\n",
    "        self.moments[\"Ah\"] = radar.Ai(self.scatterer)\n",
    "        self.moments[\"Adr\"] = self.moments[\"Ah\"] - radar.Ai(self.scatterer, h_pol=False)\n",
    "        return self.moments\n",
    "    \n",
    "    \n",
    "    def returns_as_array(self, dsd):\n",
    "        ''' This just splits the return dictionary into an array to make a few things easier. '''\n",
    "        D0, Nw, mu = dsd\n",
    "        moment = self.calcParameters(D0, Nw, mu)\n",
    "        \n",
    "        return [\n",
    "            moment['Zh'], moment['Zdr'], moment['delta_hv'], moment['ldr_h'], moment['ldr_v'],\n",
    "            moment['Kdp'], moment['Ah'], moment['Adr']\n",
    "        ]\n",
    "    \n",
    "    def calcParametersBatch(self, D0, Nw, mu):\n",
    "        ''' Same as calcParameters but with arrays instead of singletons'''\n",
    "        moments = np.array(list(map(self.returns_as_array, zip(D0, Nw, mu))))\n",
    "        return moments\n",
    "\n",
    "    def __init__(self, wl=tmatrix_aux.wl_X, dr=1, shape=\"bc\", canting_angle=7.0):\n",
    "        DSR_list = {\"tb\": DSR.tb, \"bc\": DSR.bc, \"pb\": DSR.pb}\n",
    "\n",
    "        self.scatterer = Scatterer(wavelength=wl, m=refractive.m_w_10C[wl])\n",
    "        self.scatterer.psd_integrator = PSDIntegrator()\n",
    "        self.scatterer.psd_integrator.axis_ratio_func = lambda D: 1.0 / DSR_list[shape](\n",
    "            D\n",
    "        )\n",
    "        self.scatterer.psd_integrator.D_max = 10.0\n",
    "        self.scatterer.psd_integrator.geometries = (\n",
    "            tmatrix_aux.geom_horiz_back, tmatrix_aux.geom_horiz_forw\n",
    "        )\n",
    "        self.scatterer.or_pdf = orientation.gaussian_pdf(canting_angle)\n",
    "        self.scatterer.orient = orientation.orient_averaged_fixed\n",
    "        self.scatterer.psd_integrator.init_scatter_table(self.scatterer)\n",
    "        self.dr = dr\n"
   ]
  },
  {
   "cell_type": "code",
   "execution_count": 37,
   "metadata": {},
   "outputs": [],
   "source": [
    "dsd_processor = DSDProcessor() # Default X band for first dataset is fine. "
   ]
  },
  {
   "cell_type": "code",
   "execution_count": 38,
   "metadata": {},
   "outputs": [
    {
     "data": {
      "text/plain": [
       "{'Zh': 39.7458149046063,\n",
       " 'Zdr': 1.996043027211839,\n",
       " 'delta_hv': 0.0496025306331171,\n",
       " 'ldr_h': 0.0008489197364380117,\n",
       " 'ldr_v': 0.0013442217967929166,\n",
       " 'Kdp': 0.4497729220778618,\n",
       " 'Ah': 0.11003969286657221,\n",
       " 'Adr': 0.01797479405421047}"
      ]
     },
     "execution_count": 38,
     "metadata": {},
     "output_type": "execute_result"
    }
   ],
   "source": [
    "dsd_processor.calcParameters(2, 3, 3)"
   ]
  },
  {
   "cell_type": "markdown",
   "metadata": {},
   "source": [
    "Now we just generate a large number of these and save them out. We should probably do some filtering based on rain rate as well. "
   ]
  },
  {
   "cell_type": "code",
   "execution_count": 41,
   "metadata": {},
   "outputs": [],
   "source": [
    "moments = dsd_processor.calcParametersBatch([1, 2, 3, 1], [1, 2, 3, 2], [3, 2, 1, 3])"
   ]
  },
  {
   "cell_type": "code",
   "execution_count": 50,
   "metadata": {},
   "outputs": [],
   "source": [
    "D0 = np.random.uniform(0.01, 5, 50000)\n",
    "Nw = np.random.uniform(0.01, 5, 50000)\n",
    "mu = np.random.uniform(1, 6, 50000)"
   ]
  },
  {
   "cell_type": "code",
   "execution_count": 51,
   "metadata": {},
   "outputs": [],
   "source": [
    "moments= dsd_processor.calcParametersBatch(D0, Nw, mu)"
   ]
  },
  {
   "cell_type": "code",
   "execution_count": 49,
   "metadata": {},
   "outputs": [
    {
     "data": {
      "text/plain": [
       "<matplotlib.collections.PathCollection at 0x1306fcc18>"
      ]
     },
     "execution_count": 49,
     "metadata": {},
     "output_type": "execute_result"
    },
    {
     "data": {
      "image/png": "[encoded data removed]",
      "text/plain": [
       "<Figure size 432x288 with 1 Axes>"
      ]
     },
     "metadata": {
      "needs_background": "light"
     },
     "output_type": "display_data"
    }
   ],
   "source": [
    "plt.scatter(D0, moments[:,1])"
   ]
  },
  {
   "cell_type": "markdown",
   "metadata": {},
   "source": [
    "Now let's write these out into a netCDF file so we can reuse these later on.    \n",
    "_Note: We should add other canting angles, and DSRs later on._"
   ]
  },
  {
   "cell_type": "code",
   "execution_count": 54,
   "metadata": {},
   "outputs": [],
   "source": [
    "rootgrp = Dataset(\"x_scattered_dsds.nc\", \"w\", format=\"NETCDF4\")\n",
    "rootgrp.createDimension(\"sample\", None)\n",
    "D0_f = rootgrp.createVariable(\"D0\",\"f8\",(\"sample\",))\n",
    "Nw_f = rootgrp.createVariable(\"Nw\",\"f8\",(\"sample\",))\n",
    "mu_f = rootgrp.createVariable(\"mu\",\"f8\",(\"sample\",))\n",
    "\n",
    "Zh_f = rootgrp.createVariable(\"Zh\",\"f8\",(\"sample\",))\n",
    "Zdr_f = rootgrp.createVariable(\"Zdr\",\"f8\",(\"sample\",))\n",
    "delta_f = rootgrp.createVariable(\"delta\",\"f8\",(\"sample\",))\n",
    "ldrh_f = rootgrp.createVariable(\"ldrh\",\"f8\",(\"sample\",))\n",
    "ldrv_f = rootgrp.createVariable(\"ldrv\",\"f8\",(\"sample\",))\n",
    "Kdp_f = rootgrp.createVariable(\"Kdp\",\"f8\",(\"sample\",))\n",
    "Ah_f = rootgrp.createVariable(\"Ah\",\"f8\",(\"sample\",))\n",
    "Adr_f = rootgrp.createVariable(\"Adr\",\"f8\",(\"sample\",))"
   ]
  },
  {
   "cell_type": "code",
   "execution_count": 57,
   "metadata": {},
   "outputs": [],
   "source": [
    "D0_f[:] = D0\n",
    "Nw_f[:] = Nw\n",
    "mu_f[:] = mu\n",
    "\n",
    "Zh_f[:] = moments[:,0]\n",
    "Zdr_f[:] = moments[:,1]\n",
    "delta_f[:] = moments[:,2]\n",
    "ldrh_f[:] = moments[:,3]\n",
    "ldrv_f[:] = moments[:,4]\n",
    "Kdp_f[:] = moments[:,5]\n",
    "Ah_f[:] = moments[:,6]\n",
    "Adr_f[:] = moments[:,7]\n",
    "\n",
    "rootgrp.close()"
   ]
  },
  {
   "cell_type": "code",
   "execution_count": 58,
   "metadata": {},
   "outputs": [],
   "source": []
  },
  {
   "cell_type": "code",
   "execution_count": null,
   "metadata": {},
   "outputs": [],
   "source": []
  }
 ],
 "metadata": {
  "kernelspec": {
   "display_name": "Python 3",
   "language": "python",
   "name": "python3"
  },
  "language_info": {
   "codemirror_mode": {
    "name": "ipython",
    "version": 3
   },
   "file_extension": ".py",
   "mimetype": "text/x-python",
   "name": "python",
   "nbconvert_exporter": "python",
   "pygments_lexer": "ipython3",
   "version": "3.7.3"
  }
 },
 "nbformat": 4,
 "nbformat_minor": 2
}
