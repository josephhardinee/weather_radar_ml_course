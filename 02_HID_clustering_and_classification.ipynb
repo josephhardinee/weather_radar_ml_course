{
 "cells": [
  {
   "cell_type": "code",
   "execution_count": null,
   "metadata": {},
   "outputs": [],
   "source": [
    "%matplotlib inline\n",
    "#!pip install UMAP-learn\n",
    "#!pip install netCDF4"
   ]
  },
  {
   "cell_type": "markdown",
   "metadata": {},
   "source": [
    "# Clustering with UMAP on MNIST\n",
    "UMAP is a clustering/classification library that has been showing great potential. Before we apply UMAP to radar data we will go through and apply UMAP to the MNIST digits dataset based on an example in the UMAP documentation (https://umap-learn.readthedocs.io/en/)"
   ]
  },
  {
   "cell_type": "code",
   "execution_count": null,
   "metadata": {},
   "outputs": [],
   "source": [
    "from sklearn.datasets import load_iris, load_digits\n",
    "from sklearn.model_selection import train_test_split\n",
    "from sklearn.manifold import TSNE\n",
    "\n",
    "import matplotlib.pyplot as plt\n",
    "import seaborn as sns\n",
    "import pandas as pd\n",
    "import umap\n",
    "import numpy as np"
   ]
  },
  {
   "cell_type": "code",
   "execution_count": null,
   "metadata": {},
   "outputs": [],
   "source": [
    "digits = load_digits()\n"
   ]
  },
  {
   "cell_type": "code",
   "execution_count": null,
   "metadata": {},
   "outputs": [],
   "source": [
    "fig, ax_array = plt.subplots(20, 20)\n",
    "axes = ax_array.flatten()\n",
    "for i, ax in enumerate(axes):\n",
    "    ax.imshow(digits.images[i], cmap='gray_r')\n",
    "plt.setp(axes, xticks=[], yticks=[], frame_on=False)\n",
    "plt.tight_layout(h_pad=0.5, w_pad=0.01)"
   ]
  },
  {
   "cell_type": "markdown",
   "metadata": {},
   "source": [
    "We can look at an individual digits image. "
   ]
  },
  {
   "cell_type": "code",
   "execution_count": null,
   "metadata": {},
   "outputs": [],
   "source": [
    "plt.figure(figsize=(5,5))\n",
    "plt.imshow(digits.images[5], cmap='gray_r')"
   ]
  },
  {
   "cell_type": "code",
   "execution_count": null,
   "metadata": {},
   "outputs": [],
   "source": [
    "reducer = umap.UMAP(a=1.576943460405378,  angular_rp_forest=False,\n",
    "   b=0.8950608781227859,  init='spectral',\n",
    "   local_connectivity=1.0, metric='euclidean', metric_kwds={},\n",
    "   min_dist=0.1, n_components=2, n_neighbors=15,\n",
    "   negative_sample_rate=5, random_state=42, set_op_mix_ratio=1.0,\n",
    "   spread=1.0, target_metric='categorical', target_metric_kwds={},\n",
    "   transform_queue_size=4.0, transform_seed=42, verbose=False)\n",
    "reducer.fit(digits.data)\n"
   ]
  },
  {
   "cell_type": "code",
   "execution_count": null,
   "metadata": {},
   "outputs": [],
   "source": [
    "embedding = reducer.transform(digits.data)\n"
   ]
  },
  {
   "cell_type": "markdown",
   "metadata": {},
   "source": [
    "So we've specified we want 2 output components, which makes this much easier to visualize. "
   ]
  },
  {
   "cell_type": "code",
   "execution_count": null,
   "metadata": {},
   "outputs": [],
   "source": [
    "print(embedding.shape)"
   ]
  },
  {
   "cell_type": "code",
   "execution_count": null,
   "metadata": {},
   "outputs": [],
   "source": [
    "plt.figure(figsize=(8,8))\n",
    "plt.scatter(embedding[:, 0], embedding[:, 1], c=digits.target, cmap='tab10', s=5)\n",
    "plt.gca().set_aspect('equal', 'datalim')\n",
    "plt.colorbar(boundaries=np.arange(11)-0.5).set_ticks(np.arange(10))\n",
    "plt.title('UMAP projection of the Digits dataset', fontsize=24);"
   ]
  },
  {
   "cell_type": "markdown",
   "metadata": {},
   "source": [
    "__Exercise__\n",
    "1.Play with some of the parameters and rerun this and see what happens. "
   ]
  },
  {
   "cell_type": "code",
   "execution_count": null,
   "metadata": {},
   "outputs": [],
   "source": [
    "tsne = TSNE(n_components=2, verbose=1, perplexity=40, n_iter=300)\n",
    "tsne_results = tsne.fit_transform(digits.data)"
   ]
  },
  {
   "cell_type": "code",
   "execution_count": null,
   "metadata": {},
   "outputs": [],
   "source": [
    "plt.scatter(tsne_results[:,0], tsne_results[:,1], c = digits.target, cmap='tab10')\n",
    "plt.colorbar()"
   ]
  },
  {
   "cell_type": "markdown",
   "metadata": {},
   "source": [
    "# Radar HID\n",
    "Next we will apply UMAP to some radar data. We've taken some radar data and run an HID algorithm over it already. The goal is to explore the output of the HID algorithm and look into what clustering shows about the separability of the HID clusters. "
   ]
  },
  {
   "cell_type": "code",
   "execution_count": null,
   "metadata": {},
   "outputs": [],
   "source": [
    "%matplotlib inline\n",
    "import os, sys, glob\n",
    "import numpy as np\n",
    "import matplotlib.pyplot as plt\n",
    "import matplotlib.pyplot as plt\n",
    "import matplotlib.colors as colors\n",
    "from scipy.signal import medfilt\n",
    "from matplotlib.colors import LogNorm\n",
    "from netCDF4 import Dataset\n",
    "# import pyart\n",
    "# from skewt import SkewT\n",
    "# import xarray as xr\n"
   ]
  },
  {
   "cell_type": "code",
   "execution_count": null,
   "metadata": {},
   "outputs": [],
   "source": [
    "# !wget https://github.com/josephhardinee/weather_radar_ml_course/raw/master/XSAPR20110511_150603.nc"
   ]
  },
  {
   "cell_type": "code",
   "execution_count": null,
   "metadata": {},
   "outputs": [],
   "source": [
    "filename = './XSAPR20110511_150603.nc'\n",
    "grid = Dataset(filename)\n"
   ]
  },
  {
   "cell_type": "code",
   "execution_count": null,
   "metadata": {},
   "outputs": [],
   "source": [
    "# Form dataset\n",
    "rhohv = grid.variables['cross_correlation_ratio'][:].squeeze()\n",
    "height = grid.variables['z']\n",
    "x = grid.variables['x']\n",
    "y = grid.variables['y']\n",
    "zh = grid.variables['attenuation_corrected_reflectivity'][:].squeeze()\n",
    "zdr = grid.variables['attenuation_corrected_differential_reflectivity'][:].squeeze()\n",
    "kdp = grid.variables['specific_differential_phase_pos_lp'][:].squeeze()\n",
    "\n",
    "HID = grid.variables['HID'][:].squeeze()"
   ]
  },
  {
   "cell_type": "code",
   "execution_count": null,
   "metadata": {},
   "outputs": [],
   "source": [
    "plt.pcolormesh(x, y, HID[4,:,:], cmap='tab10')\n",
    "plt.colorbar()"
   ]
  },
  {
   "cell_type": "code",
   "execution_count": null,
   "metadata": {},
   "outputs": [],
   "source": [
    "rhv_idx = rhohv.ravel() > .7\n",
    "data = np.array([zh.ravel()[rhv_idx], zdr.ravel()[rhv_idx], rhohv.ravel()[rhv_idx], kdp.ravel()[rhv_idx]]).T\n",
    "print(data.shape)\n",
    "print(HID.shape)\n"
   ]
  },
  {
   "cell_type": "code",
   "execution_count": null,
   "metadata": {},
   "outputs": [],
   "source": [
    "reducer = umap.UMAP(n_neighbors=25)\n",
    "embedding = reducer.fit_transform(data)\n",
    "# embedding = reducer.fit_transform(data, y=HID.ravel()[rhv_idx])"
   ]
  },
  {
   "cell_type": "code",
   "execution_count": null,
   "metadata": {},
   "outputs": [],
   "source": [
    "plt.figure(figsize=(12,12))\n",
    "plt.scatter(embedding[:, 0], embedding[:, 1], c=HID.ravel()[rhv_idx], cmap='tab10')\n",
    "plt.gca().set_aspect('equal', 'datalim')\n",
    "plt.title('UMAP projection of xsapr HID', fontsize=24);\n",
    "# plt.xlim(-10, 10)\n",
    "# plt.ylim(10, 25)\n",
    "plt.colorbar()"
   ]
  },
  {
   "cell_type": "markdown",
   "metadata": {},
   "source": [
    "    1. Drizzle\n",
    "    2. Rain\n",
    "    3. Ice Crystals\n",
    "    4. Aggregates\n",
    "    5. Wet/Melting Snow\n",
    "    6. Vertically Aligned Ice\n",
    "    7. Low-Density Graupel\n",
    "    8. High-Density Graupel\n",
    "    9. Hail\n",
    "    10. Big Drops"
   ]
  },
  {
   "cell_type": "markdown",
   "metadata": {},
   "source": [
    "Exercises:\n",
    "1. Play with the parameters. Can you improve this?\n",
    "2. Wat does this say about HID. Do we necessarily trust the classes?\n",
    "3. How can we improve this?"
   ]
  },
  {
   "cell_type": "code",
   "execution_count": null,
   "metadata": {},
   "outputs": [],
   "source": []
  }
 ],
 "metadata": {
  "kernelspec": {
   "display_name": "Python 3",
   "language": "python",
   "name": "python3"
  },
  "language_info": {
   "codemirror_mode": {
    "name": "ipython",
    "version": 3
   },
   "file_extension": ".py",
   "mimetype": "text/x-python",
   "name": "python",
   "nbconvert_exporter": "python",
   "pygments_lexer": "ipython3",
   "version": "3.7.3"
  }
 },
 "nbformat": 4,
 "nbformat_minor": 2
}
